{
 "cells": [
  {
   "cell_type": "markdown",
   "metadata": {},
   "source": [
    "#Created By: Rahul BASU \n",
    "#On: 2018-09-13\n",
    "#Bokeh installation\n",
    "    #https://bokeh.pydata.org/en/latest/docs/installation.html\n",
    "    #Run Anaconda prompt as system administrator \n",
    "        conda install bokeh\n",
    "    #Verify installation:\n",
    "        import bokeh\n",
    "        bokeh.__version__\n",
    "    #Test bokeh\n",
    "        testplot = figure(plot_width=400, tools='pan,box_zoom')\n",
    "        testplot.circle([1,2,3,4,5], [8,6,5,2,3])\n",
    "        output_file('circle.html')\n",
    "        show(testplot)"
   ]
  },
  {
   "cell_type": "code",
   "execution_count": 1,
   "metadata": {},
   "outputs": [],
   "source": [
    "# Perform necessary imports for pandas & bokeh & test\n",
    "import pandas as pd\n",
    "from bokeh.io import output_file, show, curdoc\n",
    "from bokeh.plotting import figure\n",
    "from bokeh.layouts import widgetbox,row\n",
    "from bokeh.models import HoverTool, ColumnDataSource, CategoricalColorMapper,Slider,MultiSelect,Select\n",
    "from bokeh.palettes import magma,inferno"
   ]
  },
  {
   "cell_type": "code",
   "execution_count": 2,
   "metadata": {},
   "outputs": [],
   "source": [
    "#Import csv stock data to pandas dataframe\n",
    "#Dataset Source:https://www.kaggle.com/sugandhkhobragade/data-daily-market-price-20082018\n",
    "data=pd.read_csv('BSE_30.csv')\n",
    "data['Date']=pd.to_datetime(data['Date'])"
   ]
  },
  {
   "cell_type": "code",
   "execution_count": null,
   "metadata": {},
   "outputs": [],
   "source": [
    "#Initial Data Exploration\n",
    "#data.shape\n",
    "#data.info()\n",
    "#data.describe()\n",
    "#data.head()\n",
    "#list_of_stocks=data['Symbol'].unique()\n",
    "#print(list_of_stocks)"
   ]
  },
  {
   "cell_type": "code",
   "execution_count": null,
   "metadata": {},
   "outputs": [],
   "source": [
    "#Manipulating Data Frame for INFY & TCS\n",
    "#data = data[(data.Symbol == 'INFY') | (data.Symbol == 'TCS')]\n",
    "\n",
    "# Altering indexes to Symbol & Date - to be done if required. Corresponding plotting code has to be changed.\n",
    "#data = data.set_index(['Date']).sort_index()\n",
    "#data=data.loc['INFY':'TCS']\n",
    "#data.head()"
   ]
  },
  {
   "cell_type": "markdown",
   "metadata": {},
   "source": [
    "Non-Interactive Basic Plotting"
   ]
  },
  {
   "cell_type": "code",
   "execution_count": null,
   "metadata": {},
   "outputs": [],
   "source": [
    "# Make the ColumnDataSource: source\n",
    "source = ColumnDataSource(data={\n",
    "    'x':data.Date,\n",
    "    'y':data.Close,\n",
    "    'symbol':data.Symbol,\n",
    "    'open' :data.Open,\n",
    "    'high' :data.High,\n",
    "    'low' :data.Low,\n",
    "    'adjclose': data.AdjClose,\n",
    "    'volume': data.Volume\n",
    "})\n",
    "\n",
    "xmin, xmax = min(data.Date),max(data.Date)\n",
    "ymin, ymax = min(data.Close),max(data.Close)\n",
    "\n",
    " # Create the figure: plot\n",
    "plot = figure(title='BSE 30',\n",
    "              x_range=(xmin,xmax),y_range=(ymin,ymax),\n",
    "              plot_height=800,plot_width=1100)\n",
    "\n",
    "#Unique list of Symbols & Color Mapper\n",
    "stock_list = data.Symbol.unique().tolist()\n",
    "color_mapper = CategoricalColorMapper(factors=stock_list, palette=inferno(len(stock_list)))\n",
    "\n",
    "plot.circle(x='x',y='y',fill_alpha=0.8,source=source, \n",
    "                color=dict(field='symbol', transform=color_mapper), hover_fill_color='firebrick', hover_alpha=0.1, \n",
    "               legend='symbol')\n",
    "plot.legend.location = 'top_right'\n",
    "\n",
    "# Setting the axis labels\n",
    "plot.xaxis.axis_label = 'Date'\n",
    "plot.yaxis.axis_label = 'Close'\n",
    "\n",
    "hover = HoverTool(tooltips=[('Symbol','@symbol')])\n",
    "plot.add_tools(hover)\n",
    "\n",
    "output_file('bse30_basic.html')\n",
    "show(plot)"
   ]
  },
  {
   "cell_type": "markdown",
   "metadata": {},
   "source": [
    "Add Interactivity\n",
    "Interactivity Requirements:\n",
    "    y- axis can change (single - select then multi-select) \n",
    "    Date Time remains as x-axis\n",
    "    Slider for date time\n",
    "    stock can change (single - select then multi-select) "
   ]
  },
  {
   "cell_type": "code",
   "execution_count": 3,
   "metadata": {},
   "outputs": [],
   "source": [
    "#Define callback function for interactivity\n",
    "def update_plot(attr, old, new):\n",
    "    \n",
    "    #Read value of dropdown for y axis\n",
    "    y = y_select.value\n",
    "     \n",
    "    new_data = {\n",
    "            'x':data.Date,\n",
    "            'y':data.y,\n",
    "            'symbol':data.Symbol,\n",
    "            'open' :data.Open,\n",
    "            'high' :data.High,\n",
    "            'low' :data.Low,\n",
    "            'close' :data.Close,\n",
    "            'adjclose': data.AdjClose,\n",
    "            'volume': data.Volume\n",
    "    }\n",
    "    \n",
    "    source.data = new_data\n",
    "    \n",
    "    #Set range for axes\n",
    "    xmin, xmax = min(data.Date),max(data.Date)\n",
    "    plot.y_range.start = min(data[y])\n",
    "    plot.y_range.end = max(data[y])\n",
    "    \n",
    "    #Label plot axes\n",
    "    plot.xaxis.axis_label = 'Date'\n",
    "    plot.yaxis.axis_label = y\n",
    "   \n",
    "    #Unique list of Symbols & Color Mapper\n",
    "    stock_list = data.Symbol.unique().tolist()\n",
    "    color_mapper = CategoricalColorMapper(factors=stock_list, palette=inferno(len(stock_list)))\n",
    "    \n",
    "    plot.circle(x='x',y='y',fill_alpha=0.8,source=source, \n",
    "                color=dict(field='symbol', transform=color_mapper), hover_fill_color='firebrick', hover_alpha=0.1, \n",
    "               legend='symbol')\n",
    "    plot.legend.location = 'top_right'\n",
    "    \n",
    "    hover = HoverTool(tooltips=[('Symbol','@symbol')])\n",
    "    plot.add_tools(hover)\n",
    "\n",
    "    # Add title to figure: plot.title.text\n",
    "    #plot.title.text = 'Plotting for %s' % y"
   ]
  },
  {
   "cell_type": "code",
   "execution_count": 7,
   "metadata": {},
   "outputs": [],
   "source": [
    "# Create the figure: plot\n",
    "plot = figure(title='BSE 30',\n",
    "               plot_height=800,plot_width=1100)\n",
    "\n",
    "# Create dropdown Select widget for the y data: y_select\n",
    "y_select = Select(\n",
    "    options=['open', 'high', 'low', 'close', 'adjclose', 'volume'],\n",
    "    value='close',\n",
    "    title='y-axis data'\n",
    ")\n",
    "\n",
    "# Attach the update_plot callback to the 'value' property of y_select\n",
    "y_select.on_change('value',update_plot)"
   ]
  },
  {
   "cell_type": "code",
   "execution_count": 8,
   "metadata": {},
   "outputs": [],
   "source": [
    "# Create layout and add to current document\n",
    "layout = row(widgetbox(y_select), plot)\n",
    "curdoc().add_root(layout)"
   ]
  },
  {
   "cell_type": "code",
   "execution_count": 9,
   "metadata": {},
   "outputs": [
    {
     "name": "stderr",
     "output_type": "stream",
     "text": [
      "WARNING:bokeh.embed.util:\n",
      "You are generating standalone HTML/JS output, but trying to use real Python\n",
      "callbacks (i.e. with on_change or on_event). This combination cannot work.\n",
      "\n",
      "Only JavaScript callbacks may be used with standalone output. For more\n",
      "information on JavaScript callbacks with Bokeh, see:\n",
      "\n",
      "    http://bokeh.pydata.org/en/latest/docs/user_guide/interaction/callbacks.html\n",
      "\n",
      "Alternatively, to use real Python callbacks, a Bokeh server application may\n",
      "be used. For more information on building and running Bokeh applications, see:\n",
      "\n",
      "    http://bokeh.pydata.org/en/latest/docs/user_guide/server.html\n",
      "\n"
     ]
    }
   ],
   "source": [
    "output_file('bse30_interactive.html')\n",
    "show(layout)"
   ]
  },
  {
   "cell_type": "code",
   "execution_count": null,
   "metadata": {},
   "outputs": [],
   "source": [
    "# # Create a dropdown Select widget for Stock\n",
    "# stock_select=Select(options=stock_list,value='ADANIPORTS',title='Stock')\n",
    "# stock_select.on_change('value',update_plot)\n",
    "\n",
    "# # Create layout and add to current document\n",
    "# layout = row(widgetbox(stock_select), plot)\n",
    "# curdoc().add_root(layout)"
   ]
  },
  {
   "cell_type": "code",
   "execution_count": null,
   "metadata": {},
   "outputs": [],
   "source": [
    "#Multi Select\n",
    "#multi_select = MultiSelect(title=\"Stock(s):\", value=[\"TCS\"],\n",
    "#                          options=[(\"INFY\",\"INFY\"),(\"TCS\",\"TCS\")])\n",
    "#show(multi_select)\n",
    "\n",
    "#Dropdown\n",
    "#menu = [(\"INFY\", \"infy\"), (\"TCS\", \"TCS\")]\n",
    "#dropdown = Dropdown(label=\"Dropdown button\", button_type=\"warning\", menu=menu)\n",
    "#show(dropdown)"
   ]
  },
  {
   "cell_type": "code",
   "execution_count": null,
   "metadata": {},
   "outputs": [],
   "source": [
    "# Make slider object: slider\n",
    "# slider = Slider(start=2008,end=2018,step=1,value=2008,title='Year')\n",
    "# Attach the callback to the 'value' property of slider\n",
    "#slider.on_change('value',update_plot)\n",
    "\n",
    "# Make a row layout of widgetbox(slider) and plot and add it to the current document\n",
    "#layout = row(widgetbox(slider), plot)\n",
    "#curdoc().add_root(layout)"
   ]
  }
 ],
 "metadata": {
  "kernelspec": {
   "display_name": "Python 3",
   "language": "python",
   "name": "python3"
  },
  "language_info": {
   "codemirror_mode": {
    "name": "ipython",
    "version": 3
   },
   "file_extension": ".py",
   "mimetype": "text/x-python",
   "name": "python",
   "nbconvert_exporter": "python",
   "pygments_lexer": "ipython3",
   "version": "3.6.4"
  }
 },
 "nbformat": 4,
 "nbformat_minor": 2
}
